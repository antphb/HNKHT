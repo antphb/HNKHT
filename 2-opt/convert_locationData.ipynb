{
 "cells": [
  {
   "cell_type": "code",
   "execution_count": 1,
   "metadata": {},
   "outputs": [
    {
     "data": {
      "text/plain": [
       "['{\"Longitude\": 106.7977478,\"Latitude\": 10.851231,\"TimeVisit\": \"7/3/2014 11:45:00 AM\" ,\"Deviation\": 1396},',\n",
       " '{\"Longitude\": 106.7984177,\"Latitude\": 10.85083625,\"TimeVisit\": \"7/3/2014 11:45:00 AM\" ,\"Deviation\": 15},']"
      ]
     },
     "execution_count": 1,
     "metadata": {},
     "output_type": "execute_result"
    }
   ],
   "source": [
    "with open(\"locationData.txt\") as file:\n",
    "    data=file.read().strip()\n",
    "    data=data.split(\"\\n\")\n",
    "data[:2]"
   ]
  },
  {
   "cell_type": "code",
   "execution_count": 2,
   "metadata": {},
   "outputs": [
    {
     "name": "stdout",
     "output_type": "stream",
     "text": [
      "{'\"Longitude\": 106.7977478,\"Latitude\": 10.851231,\"TimeVisit\": \"7/3/2014 11:45:00 AM\" ,\"Deviation\": 1396'}\n"
     ]
    }
   ],
   "source": [
    "x={data[0][1:-2]}\n",
    "print(x)"
   ]
  },
  {
   "cell_type": "code",
   "execution_count": 3,
   "metadata": {},
   "outputs": [
    {
     "data": {
      "text/plain": [
       "' 10.851231'"
      ]
     },
     "execution_count": 3,
     "metadata": {},
     "output_type": "execute_result"
    }
   ],
   "source": [
    "import pandas as pd\n",
    "data=pd.read_csv(\"locationData.txt\",header=None,delimiter=\":\")\n",
    "# x=data[0].replace('{\"Longitude\": 106.7977478',\"1\")\n",
    "# x\n",
    "lng=data[1]\n",
    "lat=data[2]\n",
    "lat[0][:10]"
   ]
  },
  {
   "cell_type": "code",
   "execution_count": 14,
   "metadata": {},
   "outputs": [
    {
     "data": {
      "text/plain": [
       "1532"
      ]
     },
     "execution_count": 14,
     "metadata": {},
     "output_type": "execute_result"
    }
   ],
   "source": [
    "latitude=[]\n",
    "for i in range(len(lat)):\n",
    "    latitude.append((lat[i][:lat[i].find(\",\")]).strip())\n",
    "latitude=list(set(latitude))\n",
    "len(latitude)"
   ]
  },
  {
   "cell_type": "code",
   "execution_count": 13,
   "metadata": {},
   "outputs": [
    {
     "data": {
      "text/plain": [
       "1588"
      ]
     },
     "execution_count": 13,
     "metadata": {},
     "output_type": "execute_result"
    }
   ],
   "source": [
    "longitude=[]\n",
    "for i in range(len(lng)):\n",
    "    longitude.append((lng[i][:lng[i].find(\",\")]).strip())\n",
    "longitude=list(set(longitude))\n",
    "len(longitude)"
   ]
  },
  {
   "cell_type": "code",
   "execution_count": 15,
   "metadata": {},
   "outputs": [],
   "source": [
    "with open (\"covert_locationData.txt\",\"w\") as file:\n",
    "    for i in range(len(latitude)):\n",
    "        file.write(latitude[i]+\",\"+longitude[i]+\"\\n\")"
   ]
  }
 ],
 "metadata": {
  "interpreter": {
   "hash": "6fff98fc3b3d81bd655c2cc48858186e4d9e2db7b515bf1c3221888f12a62f87"
  },
  "kernelspec": {
   "display_name": "Python 3.9.2 64-bit",
   "language": "python",
   "name": "python3"
  },
  "language_info": {
   "codemirror_mode": {
    "name": "ipython",
    "version": 3
   },
   "file_extension": ".py",
   "mimetype": "text/x-python",
   "name": "python",
   "nbconvert_exporter": "python",
   "pygments_lexer": "ipython3",
   "version": "3.9.2"
  },
  "orig_nbformat": 4
 },
 "nbformat": 4,
 "nbformat_minor": 2
}
